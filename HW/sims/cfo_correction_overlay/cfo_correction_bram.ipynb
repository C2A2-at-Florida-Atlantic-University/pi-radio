{
 "cells": [
  {
   "cell_type": "code",
   "execution_count": 1,
   "id": "6cd29b31",
   "metadata": {},
   "outputs": [
    {
     "data": {
      "application/javascript": [
       "\n",
       "try {\n",
       "require(['notebook/js/codecell'], function(codecell) {\n",
       "  codecell.CodeCell.options_default.highlight_modes[\n",
       "      'magic_text/x-csrc'] = {'reg':[/^%%microblaze/]};\n",
       "  Jupyter.notebook.events.one('kernel_ready.Kernel', function(){\n",
       "      Jupyter.notebook.get_cells().map(function(cell){\n",
       "          if (cell.cell_type == 'code'){ cell.auto_highlight(); } }) ;\n",
       "  });\n",
       "});\n",
       "} catch (e) {};\n"
      ]
     },
     "metadata": {},
     "output_type": "display_data"
    },
    {
     "data": {
      "application/javascript": [
       "\n",
       "try {\n",
       "require(['notebook/js/codecell'], function(codecell) {\n",
       "  codecell.CodeCell.options_default.highlight_modes[\n",
       "      'magic_text/x-csrc'] = {'reg':[/^%%pybind11/]};\n",
       "  Jupyter.notebook.events.one('kernel_ready.Kernel', function(){\n",
       "      Jupyter.notebook.get_cells().map(function(cell){\n",
       "          if (cell.cell_type == 'code'){ cell.auto_highlight(); } }) ;\n",
       "  });\n",
       "});\n",
       "} catch (e) {};\n"
      ]
     },
     "metadata": {},
     "output_type": "display_data"
    }
   ],
   "source": [
    "from pynq import Overlay\n",
    "overlay = Overlay('/home/xilinx/pi-radio-overlays/cfo_correction/cfo_correction.bit')\n",
    "overlay?"
   ]
  },
  {
   "cell_type": "code",
   "execution_count": 2,
   "id": "7dfa6889",
   "metadata": {},
   "outputs": [],
   "source": [
    "from pynq.lib import AxiGPIO\n",
    "from pynq import allocate\n",
    "\n",
    "# Data DMA\n",
    "data_dma = overlay.axi_dma_0\n",
    "# AXI GPIO\n",
    "bypass_start = overlay.bypass_start\n",
    "playback_symbols = overlay.playback_symbols"
   ]
  },
  {
   "cell_type": "code",
   "execution_count": 3,
   "id": "aa226f02",
   "metadata": {},
   "outputs": [],
   "source": [
    "# Ensure waveform playback is inactive\n",
    "bypass_start.write(0x8,0x1)  "
   ]
  },
  {
   "cell_type": "code",
   "execution_count": 4,
   "id": "c706c230",
   "metadata": {},
   "outputs": [],
   "source": [
    "# Ensure CFO is enabled\n",
    "bypass_start.write(0x0,0x0)"
   ]
  },
  {
   "cell_type": "code",
   "execution_count": 5,
   "id": "613a346e",
   "metadata": {},
   "outputs": [],
   "source": [
    "# Set number of symbols to playback\n",
    "playback_symbols.write(0x0,0x1)"
   ]
  },
  {
   "cell_type": "code",
   "execution_count": 6,
   "id": "bd57229a",
   "metadata": {},
   "outputs": [],
   "source": [
    "# Enable playback\n",
    "playback_symbols.write(0x8,0x1)"
   ]
  },
  {
   "cell_type": "code",
   "execution_count": 28,
   "id": "3c2b5281",
   "metadata": {},
   "outputs": [],
   "source": [
    "# Read waveform from FIFO via DMA\n",
    "import numpy as np\n",
    "from numpy import loadtxt\n",
    "\n",
    "nfft = 1024\n",
    "cp_len = 256\n",
    "ofdm_symbols = 10\n",
    "symbol_length = nfft + cp_len;\n",
    "out_data_buffer = allocate(shape=((symbol_length-cp_len)*ofdm_symbols,),dtype=np.int16)\n",
    "\n",
    "data_dma.recvchannel.transfer(out_data_buffer)\n",
    "data_dma.recvchannel.wait()\n",
    "\n",
    "out_samples = np.empty(shape=((symbol_length-cp_len)*ofdm_symbols,),dtype=np.int16)\n",
    "np.copyto(out_samples,out_data_buffer)\n",
    "\n",
    "out_data_buffer.close()"
   ]
  },
  {
   "cell_type": "code",
   "execution_count": null,
   "id": "1004974c",
   "metadata": {},
   "outputs": [],
   "source": [
    "# Write to text file\n",
    "np.savetxt('/home/xilinx/pi-radio-overlays/cfo_correction/cfo_output_samples.txt',out_samples,fmt='%i')"
   ]
  },
  {
   "cell_type": "code",
   "execution_count": null,
   "id": "5b32eeea",
   "metadata": {},
   "outputs": [],
   "source": []
  }
 ],
 "metadata": {
  "kernelspec": {
   "display_name": "Python 3",
   "language": "python",
   "name": "python3"
  },
  "language_info": {
   "codemirror_mode": {
    "name": "ipython",
    "version": 3
   },
   "file_extension": ".py",
   "mimetype": "text/x-python",
   "name": "python",
   "nbconvert_exporter": "python",
   "pygments_lexer": "ipython3",
   "version": "3.8.2"
  }
 },
 "nbformat": 4,
 "nbformat_minor": 5
}
